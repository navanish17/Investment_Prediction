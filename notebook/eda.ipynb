{
 "cells": [
  {
   "cell_type": "markdown",
   "metadata": {},
   "source": [
    "**Data Checks to perform**\n",
    "1. Check Missing values\n",
    "2. Check Duplicates\n",
    "3. Check data type\n",
    "4. Check the number of unique values of each column\n",
    "5. Check statistics of data set\n",
    "6. Check various categories present in the different categorical column"
   ]
  },
  {
   "cell_type": "code",
   "execution_count": 2,
   "metadata": {},
   "outputs": [],
   "source": [
    "import numpy as np\n",
    "import matplotlib.pyplot as plt\n",
    "import pandas as pd\n",
    "import seaborn as sns\n",
    "import yfinance as yf "
   ]
  },
  {
   "cell_type": "code",
   "execution_count": 3,
   "metadata": {},
   "outputs": [],
   "source": [
    "df = pd.read_csv('raw.csv')"
   ]
  },
  {
   "cell_type": "code",
   "execution_count": 4,
   "metadata": {},
   "outputs": [
    {
     "data": {
      "text/html": [
       "<div>\n",
       "<style scoped>\n",
       "    .dataframe tbody tr th:only-of-type {\n",
       "        vertical-align: middle;\n",
       "    }\n",
       "\n",
       "    .dataframe tbody tr th {\n",
       "        vertical-align: top;\n",
       "    }\n",
       "\n",
       "    .dataframe thead th {\n",
       "        text-align: right;\n",
       "    }\n",
       "</style>\n",
       "<table border=\"1\" class=\"dataframe\">\n",
       "  <thead>\n",
       "    <tr style=\"text-align: right;\">\n",
       "      <th></th>\n",
       "      <th>date</th>\n",
       "      <th>time</th>\n",
       "      <th>open</th>\n",
       "      <th>high</th>\n",
       "      <th>low</th>\n",
       "      <th>close</th>\n",
       "      <th>volume</th>\n",
       "    </tr>\n",
       "  </thead>\n",
       "  <tbody>\n",
       "    <tr>\n",
       "      <th>0</th>\n",
       "      <td>2017-01-02</td>\n",
       "      <td>09:15:00</td>\n",
       "      <td>124.55</td>\n",
       "      <td>124.55</td>\n",
       "      <td>123.80</td>\n",
       "      <td>124.00</td>\n",
       "      <td>21398.0</td>\n",
       "    </tr>\n",
       "    <tr>\n",
       "      <th>1</th>\n",
       "      <td>2017-01-02</td>\n",
       "      <td>09:16:00</td>\n",
       "      <td>123.85</td>\n",
       "      <td>124.10</td>\n",
       "      <td>123.85</td>\n",
       "      <td>124.05</td>\n",
       "      <td>18269.0</td>\n",
       "    </tr>\n",
       "    <tr>\n",
       "      <th>2</th>\n",
       "      <td>2017-01-02</td>\n",
       "      <td>09:17:00</td>\n",
       "      <td>124.05</td>\n",
       "      <td>124.05</td>\n",
       "      <td>123.40</td>\n",
       "      <td>123.55</td>\n",
       "      <td>16666.0</td>\n",
       "    </tr>\n",
       "    <tr>\n",
       "      <th>3</th>\n",
       "      <td>2017-01-02</td>\n",
       "      <td>09:18:00</td>\n",
       "      <td>123.55</td>\n",
       "      <td>123.85</td>\n",
       "      <td>123.55</td>\n",
       "      <td>123.65</td>\n",
       "      <td>27959.0</td>\n",
       "    </tr>\n",
       "    <tr>\n",
       "      <th>4</th>\n",
       "      <td>2017-01-02</td>\n",
       "      <td>09:19:00</td>\n",
       "      <td>123.65</td>\n",
       "      <td>123.80</td>\n",
       "      <td>123.60</td>\n",
       "      <td>123.60</td>\n",
       "      <td>7856.0</td>\n",
       "    </tr>\n",
       "  </tbody>\n",
       "</table>\n",
       "</div>"
      ],
      "text/plain": [
       "         date      time    open    high     low   close   volume\n",
       "0  2017-01-02  09:15:00  124.55  124.55  123.80  124.00  21398.0\n",
       "1  2017-01-02  09:16:00  123.85  124.10  123.85  124.05  18269.0\n",
       "2  2017-01-02  09:17:00  124.05  124.05  123.40  123.55  16666.0\n",
       "3  2017-01-02  09:18:00  123.55  123.85  123.55  123.65  27959.0\n",
       "4  2017-01-02  09:19:00  123.65  123.80  123.60  123.60   7856.0"
      ]
     },
     "execution_count": 4,
     "metadata": {},
     "output_type": "execute_result"
    }
   ],
   "source": [
    "df.head()"
   ]
  },
  {
   "cell_type": "code",
   "execution_count": 5,
   "metadata": {},
   "outputs": [
    {
     "data": {
      "text/html": [
       "<div>\n",
       "<style scoped>\n",
       "    .dataframe tbody tr th:only-of-type {\n",
       "        vertical-align: middle;\n",
       "    }\n",
       "\n",
       "    .dataframe tbody tr th {\n",
       "        vertical-align: top;\n",
       "    }\n",
       "\n",
       "    .dataframe thead th {\n",
       "        text-align: right;\n",
       "    }\n",
       "</style>\n",
       "<table border=\"1\" class=\"dataframe\">\n",
       "  <thead>\n",
       "    <tr style=\"text-align: right;\">\n",
       "      <th></th>\n",
       "      <th>date</th>\n",
       "      <th>time</th>\n",
       "      <th>open</th>\n",
       "      <th>high</th>\n",
       "      <th>low</th>\n",
       "      <th>close</th>\n",
       "      <th>volume</th>\n",
       "    </tr>\n",
       "  </thead>\n",
       "  <tbody>\n",
       "    <tr>\n",
       "      <th>0</th>\n",
       "      <td>2017-01-02</td>\n",
       "      <td>09:15:00</td>\n",
       "      <td>124.55</td>\n",
       "      <td>124.55</td>\n",
       "      <td>123.80</td>\n",
       "      <td>124.00</td>\n",
       "      <td>21398.0</td>\n",
       "    </tr>\n",
       "    <tr>\n",
       "      <th>1</th>\n",
       "      <td>2017-01-02</td>\n",
       "      <td>09:16:00</td>\n",
       "      <td>123.85</td>\n",
       "      <td>124.10</td>\n",
       "      <td>123.85</td>\n",
       "      <td>124.05</td>\n",
       "      <td>18269.0</td>\n",
       "    </tr>\n",
       "    <tr>\n",
       "      <th>2</th>\n",
       "      <td>2017-01-02</td>\n",
       "      <td>09:17:00</td>\n",
       "      <td>124.05</td>\n",
       "      <td>124.05</td>\n",
       "      <td>123.40</td>\n",
       "      <td>123.55</td>\n",
       "      <td>16666.0</td>\n",
       "    </tr>\n",
       "    <tr>\n",
       "      <th>3</th>\n",
       "      <td>2017-01-02</td>\n",
       "      <td>09:18:00</td>\n",
       "      <td>123.55</td>\n",
       "      <td>123.85</td>\n",
       "      <td>123.55</td>\n",
       "      <td>123.65</td>\n",
       "      <td>27959.0</td>\n",
       "    </tr>\n",
       "    <tr>\n",
       "      <th>4</th>\n",
       "      <td>2017-01-02</td>\n",
       "      <td>09:19:00</td>\n",
       "      <td>123.65</td>\n",
       "      <td>123.80</td>\n",
       "      <td>123.60</td>\n",
       "      <td>123.60</td>\n",
       "      <td>7856.0</td>\n",
       "    </tr>\n",
       "    <tr>\n",
       "      <th>...</th>\n",
       "      <td>...</td>\n",
       "      <td>...</td>\n",
       "      <td>...</td>\n",
       "      <td>...</td>\n",
       "      <td>...</td>\n",
       "      <td>...</td>\n",
       "      <td>...</td>\n",
       "    </tr>\n",
       "    <tr>\n",
       "      <th>370541</th>\n",
       "      <td>2021-01-01</td>\n",
       "      <td>15:25:00</td>\n",
       "      <td>123.70</td>\n",
       "      <td>123.80</td>\n",
       "      <td>123.65</td>\n",
       "      <td>123.75</td>\n",
       "      <td>17293.0</td>\n",
       "    </tr>\n",
       "    <tr>\n",
       "      <th>370542</th>\n",
       "      <td>2021-01-01</td>\n",
       "      <td>15:26:00</td>\n",
       "      <td>123.75</td>\n",
       "      <td>123.80</td>\n",
       "      <td>123.55</td>\n",
       "      <td>123.55</td>\n",
       "      <td>31159.0</td>\n",
       "    </tr>\n",
       "    <tr>\n",
       "      <th>370543</th>\n",
       "      <td>2021-01-01</td>\n",
       "      <td>15:27:00</td>\n",
       "      <td>123.60</td>\n",
       "      <td>123.60</td>\n",
       "      <td>123.50</td>\n",
       "      <td>123.55</td>\n",
       "      <td>26707.0</td>\n",
       "    </tr>\n",
       "    <tr>\n",
       "      <th>370544</th>\n",
       "      <td>2021-01-01</td>\n",
       "      <td>15:28:00</td>\n",
       "      <td>123.55</td>\n",
       "      <td>123.60</td>\n",
       "      <td>123.25</td>\n",
       "      <td>123.25</td>\n",
       "      <td>33328.0</td>\n",
       "    </tr>\n",
       "    <tr>\n",
       "      <th>370545</th>\n",
       "      <td>2021-01-01</td>\n",
       "      <td>15:29:00</td>\n",
       "      <td>123.40</td>\n",
       "      <td>123.50</td>\n",
       "      <td>123.25</td>\n",
       "      <td>123.35</td>\n",
       "      <td>67694.0</td>\n",
       "    </tr>\n",
       "  </tbody>\n",
       "</table>\n",
       "<p>370546 rows × 7 columns</p>\n",
       "</div>"
      ],
      "text/plain": [
       "              date      time    open    high     low   close   volume\n",
       "0       2017-01-02  09:15:00  124.55  124.55  123.80  124.00  21398.0\n",
       "1       2017-01-02  09:16:00  123.85  124.10  123.85  124.05  18269.0\n",
       "2       2017-01-02  09:17:00  124.05  124.05  123.40  123.55  16666.0\n",
       "3       2017-01-02  09:18:00  123.55  123.85  123.55  123.65  27959.0\n",
       "4       2017-01-02  09:19:00  123.65  123.80  123.60  123.60   7856.0\n",
       "...            ...       ...     ...     ...     ...     ...      ...\n",
       "370541  2021-01-01  15:25:00  123.70  123.80  123.65  123.75  17293.0\n",
       "370542  2021-01-01  15:26:00  123.75  123.80  123.55  123.55  31159.0\n",
       "370543  2021-01-01  15:27:00  123.60  123.60  123.50  123.55  26707.0\n",
       "370544  2021-01-01  15:28:00  123.55  123.60  123.25  123.25  33328.0\n",
       "370545  2021-01-01  15:29:00  123.40  123.50  123.25  123.35  67694.0\n",
       "\n",
       "[370546 rows x 7 columns]"
      ]
     },
     "execution_count": 5,
     "metadata": {},
     "output_type": "execute_result"
    }
   ],
   "source": [
    "df"
   ]
  },
  {
   "cell_type": "code",
   "execution_count": 6,
   "metadata": {},
   "outputs": [],
   "source": [
    "#this is the moving average data we are finding here\n",
    "\n",
    "ma_100_days = df.close.rolling(100).mean()"
   ]
  },
  {
   "cell_type": "code",
   "execution_count": 7,
   "metadata": {},
   "outputs": [],
   "source": [
    "ma_20000_days = df.close.rolling(20000).mean()"
   ]
  },
  {
   "cell_type": "code",
   "execution_count": 8,
   "metadata": {},
   "outputs": [
    {
     "data": {
      "image/png": "[encoded data removed]",
      "text/plain": [
       "<Figure size 800x600 with 1 Axes>"
      ]
     },
     "metadata": {},
     "output_type": "display_data"
    }
   ],
   "source": [
    "plt.figure(figsize=(8,6))\n",
    "plt.plot(ma_100_days, 'r')\n",
    "plt.plot(df.close, 'g')\n",
    "plt.show()"
   ]
  },
  {
   "cell_type": "code",
   "execution_count": 9,
   "metadata": {},
   "outputs": [
    {
     "data": {
      "image/png": "[encoded data removed]",
      "text/plain": [
       "<Figure size 800x600 with 1 Axes>"
      ]
     },
     "metadata": {},
     "output_type": "display_data"
    }
   ],
   "source": [
    "plt.figure(figsize=(8,6))\n",
    "plt.plot(ma_100_days, 'r')\n",
    "plt.plot(ma_20000_days, 'b')\n",
    "plt.plot(df.close, 'g')\n",
    "plt.show()"
   ]
  },
  {
   "cell_type": "code",
   "execution_count": 10,
   "metadata": {},
   "outputs": [
    {
     "data": {
      "text/plain": [
       "370546"
      ]
     },
     "execution_count": 10,
     "metadata": {},
     "output_type": "execute_result"
    }
   ],
   "source": [
    "df.shape[0]"
   ]
  },
  {
   "cell_type": "markdown",
   "metadata": {},
   "source": [
    "**1. Checking the missing values**"
   ]
  },
  {
   "cell_type": "code",
   "execution_count": 11,
   "metadata": {},
   "outputs": [
    {
     "data": {
      "text/plain": [
       "date        0\n",
       "time        0\n",
       "open      141\n",
       "high      141\n",
       "low       141\n",
       "close     141\n",
       "volume    141\n",
       "dtype: int64"
      ]
     },
     "execution_count": 11,
     "metadata": {},
     "output_type": "execute_result"
    }
   ],
   "source": [
    "df.isna().sum()"
   ]
  },
  {
   "cell_type": "code",
   "execution_count": 12,
   "metadata": {},
   "outputs": [],
   "source": [
    "## Removing the missing values \n",
    "\n",
    "df.dropna(inplace=True)"
   ]
  },
  {
   "cell_type": "markdown",
   "metadata": {},
   "source": [
    "**2. Check duplicated values**"
   ]
  },
  {
   "cell_type": "code",
   "execution_count": 13,
   "metadata": {},
   "outputs": [
    {
     "data": {
      "text/plain": [
       "0"
      ]
     },
     "execution_count": 13,
     "metadata": {},
     "output_type": "execute_result"
    }
   ],
   "source": [
    "df.duplicated().sum()"
   ]
  },
  {
   "cell_type": "markdown",
   "metadata": {},
   "source": [
    "**3. Check the data type**"
   ]
  },
  {
   "cell_type": "code",
   "execution_count": 14,
   "metadata": {},
   "outputs": [
    {
     "name": "stdout",
     "output_type": "stream",
     "text": [
      "<class 'pandas.core.frame.DataFrame'>\n",
      "Index: 370405 entries, 0 to 370545\n",
      "Data columns (total 7 columns):\n",
      " #   Column  Non-Null Count   Dtype  \n",
      "---  ------  --------------   -----  \n",
      " 0   date    370405 non-null  object \n",
      " 1   time    370405 non-null  object \n",
      " 2   open    370405 non-null  float64\n",
      " 3   high    370405 non-null  float64\n",
      " 4   low     370405 non-null  float64\n",
      " 5   close   370405 non-null  float64\n",
      " 6   volume  370405 non-null  float64\n",
      "dtypes: float64(5), object(2)\n",
      "memory usage: 22.6+ MB\n"
     ]
    }
   ],
   "source": [
    "df.info()"
   ]
  },
  {
   "cell_type": "markdown",
   "metadata": {},
   "source": [
    "**4. Checking the number of unique values in each column**"
   ]
  },
  {
   "cell_type": "code",
   "execution_count": 15,
   "metadata": {},
   "outputs": [
    {
     "data": {
      "text/plain": [
       "date        992\n",
       "time        496\n",
       "open       2648\n",
       "high       2641\n",
       "low        2647\n",
       "close      2643\n",
       "volume    76341\n",
       "dtype: int64"
      ]
     },
     "execution_count": 15,
     "metadata": {},
     "output_type": "execute_result"
    }
   ],
   "source": [
    "df.nunique()"
   ]
  },
  {
   "cell_type": "markdown",
   "metadata": {},
   "source": [
    "**5. Check statistics of dataset**"
   ]
  },
  {
   "cell_type": "code",
   "execution_count": 16,
   "metadata": {},
   "outputs": [
    {
     "data": {
      "text/html": [
       "<div>\n",
       "<style scoped>\n",
       "    .dataframe tbody tr th:only-of-type {\n",
       "        vertical-align: middle;\n",
       "    }\n",
       "\n",
       "    .dataframe tbody tr th {\n",
       "        vertical-align: top;\n",
       "    }\n",
       "\n",
       "    .dataframe thead th {\n",
       "        text-align: right;\n",
       "    }\n",
       "</style>\n",
       "<table border=\"1\" class=\"dataframe\">\n",
       "  <thead>\n",
       "    <tr style=\"text-align: right;\">\n",
       "      <th></th>\n",
       "      <th>open</th>\n",
       "      <th>high</th>\n",
       "      <th>low</th>\n",
       "      <th>close</th>\n",
       "      <th>volume</th>\n",
       "    </tr>\n",
       "  </thead>\n",
       "  <tbody>\n",
       "    <tr>\n",
       "      <th>count</th>\n",
       "      <td>370405.000000</td>\n",
       "      <td>370405.000000</td>\n",
       "      <td>370405.000000</td>\n",
       "      <td>370405.000000</td>\n",
       "      <td>3.704050e+05</td>\n",
       "    </tr>\n",
       "    <tr>\n",
       "      <th>mean</th>\n",
       "      <td>143.686895</td>\n",
       "      <td>143.773901</td>\n",
       "      <td>143.596640</td>\n",
       "      <td>143.685330</td>\n",
       "      <td>2.259724e+04</td>\n",
       "    </tr>\n",
       "    <tr>\n",
       "      <th>std</th>\n",
       "      <td>31.837122</td>\n",
       "      <td>31.843564</td>\n",
       "      <td>31.831318</td>\n",
       "      <td>31.836113</td>\n",
       "      <td>4.915477e+04</td>\n",
       "    </tr>\n",
       "    <tr>\n",
       "      <th>min</th>\n",
       "      <td>65.350000</td>\n",
       "      <td>66.400000</td>\n",
       "      <td>65.350000</td>\n",
       "      <td>66.050000</td>\n",
       "      <td>0.000000e+00</td>\n",
       "    </tr>\n",
       "    <tr>\n",
       "      <th>25%</th>\n",
       "      <td>123.150000</td>\n",
       "      <td>123.200000</td>\n",
       "      <td>123.100000</td>\n",
       "      <td>123.150000</td>\n",
       "      <td>4.338000e+03</td>\n",
       "    </tr>\n",
       "    <tr>\n",
       "      <th>50%</th>\n",
       "      <td>146.800000</td>\n",
       "      <td>146.850000</td>\n",
       "      <td>146.700000</td>\n",
       "      <td>146.800000</td>\n",
       "      <td>9.723000e+03</td>\n",
       "    </tr>\n",
       "    <tr>\n",
       "      <th>75%</th>\n",
       "      <td>171.150000</td>\n",
       "      <td>171.250000</td>\n",
       "      <td>171.050000</td>\n",
       "      <td>171.150000</td>\n",
       "      <td>2.269100e+04</td>\n",
       "    </tr>\n",
       "    <tr>\n",
       "      <th>max</th>\n",
       "      <td>199.450000</td>\n",
       "      <td>199.650000</td>\n",
       "      <td>199.400000</td>\n",
       "      <td>199.450000</td>\n",
       "      <td>5.494054e+06</td>\n",
       "    </tr>\n",
       "  </tbody>\n",
       "</table>\n",
       "</div>"
      ],
      "text/plain": [
       "                open           high            low          close  \\\n",
       "count  370405.000000  370405.000000  370405.000000  370405.000000   \n",
       "mean      143.686895     143.773901     143.596640     143.685330   \n",
       "std        31.837122      31.843564      31.831318      31.836113   \n",
       "min        65.350000      66.400000      65.350000      66.050000   \n",
       "25%       123.150000     123.200000     123.100000     123.150000   \n",
       "50%       146.800000     146.850000     146.700000     146.800000   \n",
       "75%       171.150000     171.250000     171.050000     171.150000   \n",
       "max       199.450000     199.650000     199.400000     199.450000   \n",
       "\n",
       "             volume  \n",
       "count  3.704050e+05  \n",
       "mean   2.259724e+04  \n",
       "std    4.915477e+04  \n",
       "min    0.000000e+00  \n",
       "25%    4.338000e+03  \n",
       "50%    9.723000e+03  \n",
       "75%    2.269100e+04  \n",
       "max    5.494054e+06  "
      ]
     },
     "execution_count": 16,
     "metadata": {},
     "output_type": "execute_result"
    }
   ],
   "source": [
    "df.describe()"
   ]
  },
  {
   "cell_type": "code",
   "execution_count": null,
   "metadata": {},
   "outputs": [],
   "source": []
  }
 ],
 "metadata": {
  "kernelspec": {
   "display_name": "Python 3",
   "language": "python",
   "name": "python3"
  },
  "language_info": {
   "codemirror_mode": {
    "name": "ipython",
    "version": 3
   },
   "file_extension": ".py",
   "mimetype": "text/x-python",
   "name": "python",
   "nbconvert_exporter": "python",
   "pygments_lexer": "ipython3",
   "version": "3.9.0"
  }
 },
 "nbformat": 4,
 "nbformat_minor": 2
}
